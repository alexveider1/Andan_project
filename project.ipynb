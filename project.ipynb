{
 "cells": [
  {
   "cell_type": "markdown",
   "id": "51b14e0d-d35d-467f-91fa-4f5936800e6c",
   "metadata": {
    "editable": true,
    "id": "51b14e0d-d35d-467f-91fa-4f5936800e6c",
    "tags": []
   },
   "source": [
    "# Проект по анализу данных"
   ]
  },
  {
   "cell_type": "markdown",
   "id": "6b1cf751-7484-4fbf-8c06-ec104d5636ac",
   "metadata": {},
   "source": [
    "### Описание репозитория (README)"
   ]
  },
  {
   "cell_type": "markdown",
   "id": "ad5b9f0a-d574-4731-b886-e0cddc441b8b",
   "metadata": {},
   "source": [
    "Проект имеет составную структуру и состоит из нескольких папок и файлов: \n",
    "Папки: `_funcs`, `cache`, `data`, `FIFA`\n",
    "Файлы: `data_processing.ipynb`, `project.ipynb`, `requirements.txt`, `Sofifa-parser.py`\n",
    "\n",
    "Данные доступны по этой [ссылке](https://drive.google.com/drive/folders/1WM4IMwhoWHOdsHX7I2gORPWO8tnLHofr?usp=sharing)\n",
    "\n",
    "Идейно проект разделен на $3$ части: сбор данных, обработка данных и их анализ. При этом непосредственно в проекте тоже будут смысловые разделы: введение и первичное исследование данных (а также создадим новые признаки), визуализации, построение гипотез и их проверка (матстат), машинное обучение, заключение и выводы по проделанной работе\n",
    "\n",
    "Функционал всех составляющих проекта:\n",
    "* `_funcs`. В папке `_funcs` хранятся $3$ модуля с необходимыми для различных частей проекта. В папке `_funcs` есть `.py` файлы: `parser.py` с функциями для парсинга данных, `processing.py` с функциями для обработки данных, `project.py` с функциями для основного проекта (там преимущественно присутствуют функции для разного рода визуализаций). У всех функций и модулей есть документация. Однако поскольку, сбор и обработка данных не являются основными частями проекта, то документация не слишком подробная\n",
    "* `cache`. В папке `cache` содержатся картинки с игроками (для быстрой демонстрации работы некоторых функций)\n",
    "* `data`. В папке `data` лежат обработанные данные (по $4$ разделам: `leagues`, `teams`, `national`, `players`). Размерность основной таблицы `players` составляет примерно $(300000, 90)$\n",
    "* `FIFA`. В папке `FIFA` лежат необработанные данные (также по $4$ разделам: `leagues`, `teams`, `national`, `players`)\n",
    "* `requirements.txt`. В файле лежит список всех необходимых для запуска ноутбука библиотек для удобной установки с помощью `pip`\n",
    "* `Sofifa-parser.py`. В файле лежит код для выгрузки данных (время выполнения кода $\\sim 14$ часов) \n",
    "* `data_processing.ipynb`. В тетрадке лежит код для обработки данных (время выполнения кода $\\sim 1$ минута)\n",
    "* `project.ipynb`. В тетрадке лежит код с непосредственно анализом данных (время выполнения кода $\\sim 1$ минута)"
   ]
  },
  {
   "cell_type": "markdown",
   "id": "370bdd6f-09c9-4bc3-8b61-42f1f6f13e12",
   "metadata": {},
   "source": [
    "### Введение"
   ]
  },
  {
   "cell_type": "markdown",
   "id": "4b58fdee-0c56-4f38-9666-e6e3aad865d2",
   "metadata": {},
   "source": [
    "Проект посвящен исследованию футбола, поиском закономерностей и построением прогнозов в данном виде спорта. Авторам была интересна тема футбола, потому что эта та сфера деятельности, которая не слишком хорошо описывается числами, и большинство закономерностей являются эвристическими. Перед авторами стал вопрос о том, как и где необходимые данные для анализа получить. Безусловно, можно взять данные из flashscore, transfermarkt, opta, understat, FootyStats. Однако в этих источниках не так много информации о \"качестве\" игры некоторых футболистов (описываемых численно) $-$ разве что рейтинг в конце матча (который является важным агрегирующим показателем, но далеко не единственным и не самым точным). Поэтому было решено рассматривать не реальные данные, а \"игрушечные\" (которые появляются каждый год после выхода номерной серии FIFA). Безусловно, такой подход имеет существенные ограничения, которые авторы понимают. В частности, рейтинги, выставленные игрокам, носят субъективный характер. Это может привести к различным смещениям, выбросам и аномалиям в наших данных, а также исказить связь данных с реальностью. Однако важно отметить, что поскольку игра аффилирована с международной федерацией футбола, то ключевые данные (например, возраст игроков и переходы игроков) совпадают в этих играх с данными из реального футбола. Какие-то части данных (например, разного рода рейтинги) носят весьма субъективный характер, но все еще соотносятся с реальностью и могут быть использованы для ее описания с некоторыми ограничениями. Есть и те части данных, которые слабо связаны с реальностью (например, стоимости игроков и их зарплаты)\n",
    "\n",
    "Данные по играм серии `FIFA` не публикуются в каких-либо официальных источниках издателя `EA`. Однако есть несколько порталов от сообщества со всеми данными, которые можно извлечь из каждой (начиная с 2007-го года) номерной части. Поскольку сайты пользовательские и сделаны силами сообщества, то стоит ожидать, что в данных будут разного рода ошибки (некоторые из которых мы уже учли и исправили в `data_processing.ipynb` $-$ в любом случае, следует понимать, что данные не являются $100\\%$ верными и в них будут ошибки и нелогичности, однако поскольку наша выборка достаточно большая, то эти нелогичности скомпенсируются и будет реалистичная картина мира). Были проанализированы и рассмотрены разные сайты с информацией об игроках, однако наиболее полным и точным оказался сайт `Sofifa`. На сайте `https://sofifa.com/` доступна информация о игроках:\n",
    "\n",
    "<img src=\"https://i.ibb.co/Y4XSD838/2025-02-19-205757.png\" alt=\"2025-02-19-205757\" border=\"1\">\n",
    "\n",
    "Для команд также есть данные:\n",
    "\n",
    "<img src=\"https://i.ibb.co/tpLK3pLS/2025-02-19-210346.png\" alt=\"2025-02-19-210346\" border=\"1\">\n",
    "\n",
    "Затем данные с сайта были получены с использованием функционала библиотек `Selenium` и `bs4`. После этого данные были обработанны, выгружены в отдельные файлы и готовы к анализу. "
   ]
  },
  {
   "cell_type": "markdown",
   "id": "6191b8e0-0db8-4f50-bce0-f3bccf17026a",
   "metadata": {
    "id": "6191b8e0-0db8-4f50-bce0-f3bccf17026a"
   },
   "source": [
    "### Библиотеки"
   ]
  },
  {
   "cell_type": "code",
   "execution_count": null,
   "id": "db6f9313-88d9-4aef-9cb4-cced54ae3cda",
   "metadata": {
    "colab": {
     "base_uri": "https://localhost:8080/",
     "height": 384
    },
    "executionInfo": {
     "elapsed": 2906,
     "status": "error",
     "timestamp": 1739615074686,
     "user": {
      "displayName": "Alexveider",
      "userId": "07370676828033107529"
     },
     "user_tz": -180
    },
    "id": "db6f9313-88d9-4aef-9cb4-cced54ae3cda",
    "outputId": "7b9e3f0b-ce46-45af-cfbb-d9742409bd34"
   },
   "outputs": [],
   "source": [
    "# базовые модули\n",
    "import os\n",
    "import sys\n",
    "import requests\n",
    "import tqdm\n",
    "from time import sleep\n",
    "\n",
    "# библиотеки для вычислений\n",
    "import numpy as np\n",
    "import pandas as pd\n",
    "import scipy.stats as sts\n",
    "\n",
    "# библиотеки для визуализиций на основе matplotlib\n",
    "import matplotlib.pyplot as plt\n",
    "import matplotlib.image as mpimg\n",
    "import matplotlib_inline\n",
    "import seaborn as sns\n",
    "\n",
    "# модули для визуализаций на основе plotly\n",
    "import plotly.express as px\n",
    "import plotly.graph_objects as go\n",
    "import plotly.figure_factory as ff\n",
    "\n",
    "\n",
    "# модули для построения дашбордов\n",
    "import dash\n",
    "from dash import dcc, html\n",
    "from dash.dependencies import Input, Output\n",
    "\n",
    "# модули для машинного обучения\n",
    "from sklearn.neighbors import KNeighborsClassifier\n",
    "from sklearn.model_selection import train_test_split\n",
    "from sklearn.preprocessing import StandardScaler\n",
    "from sklearn.metrics import precision_score, confusion_matrix\n",
    "from sklearn.cluster import DBSCAN\n",
    "\n",
    "# импорт функций из кастомного модуля\n",
    "from _funcs.project import *\n",
    "\n",
    "\n",
    "sns.set_theme() # красивый фон у визуализаций на основе matplotlib\n",
    "matplotlib_inline.backend_inline.set_matplotlib_formats('svg') # векторный формат у визуализаций на основе matplotlib\n",
    "# для включения визуализаций на основе matplotlib непосредственно в jupyter-notebook\n",
    "%matplotlib inline"
   ]
  },
  {
   "cell_type": "code",
   "execution_count": null,
   "id": "8bd0081d-a563-4406-b277-9e84489b2360",
   "metadata": {
    "editable": true,
    "id": "8bd0081d-a563-4406-b277-9e84489b2360",
    "outputId": "4ceefba3-ad12-473a-90f8-d8fa805f19bc",
    "tags": []
   },
   "outputs": [],
   "source": [
    "# функции из модуля _funcs имеют краткую документацию и аннотацию типов\n",
    "help(draw_player)"
   ]
  },
  {
   "cell_type": "markdown",
   "id": "5d06f1d4-0857-485b-826b-411b8d833696",
   "metadata": {
    "id": "5d06f1d4-0857-485b-826b-411b8d833696"
   },
   "source": [
    "### Данные"
   ]
  },
  {
   "cell_type": "markdown",
   "id": "b4bfa73f-b340-4fe2-8e09-f955bd807370",
   "metadata": {},
   "source": [
    "Загрузим данные из наших файлов. Всего будет $4$ таблицы: `national`, `leagues`, `teams`, `players`. Самая большая и важная таблицы для последующего анализа $-$ это `players`. Именно к ней мы будем добавлять данные из других таблиц"
   ]
  },
  {
   "cell_type": "code",
   "execution_count": null,
   "id": "816e4f21-e492-4262-bcfa-c31b1b9828ce",
   "metadata": {
    "id": "816e4f21-e492-4262-bcfa-c31b1b9828ce"
   },
   "outputs": [],
   "source": [
    "# загружаем данные\n",
    "national = pd.read_csv('data\\\\national.csv', low_memory=False)\n",
    "leagues = pd.read_csv('data\\\\leagues.csv', low_memory=False)\n",
    "teams = pd.read_csv('data\\\\teams.csv', low_memory=False)\n",
    "players = pd.read_csv('data\\\\players.csv', low_memory=False)"
   ]
  },
  {
   "cell_type": "code",
   "execution_count": null,
   "id": "c2497f1d-c4ec-48cd-bcb8-820a5a15ddb2",
   "metadata": {
    "id": "c2497f1d-c4ec-48cd-bcb8-820a5a15ddb2"
   },
   "outputs": [],
   "source": [
    "# делаем небольшую обработку данных, сортируя их и приводя название игры к порядковому номеру вида 7, 8, 9, ..., 24\n",
    "\n",
    "players['game'] = players['game'].apply(lambda x: int(x.strip('FIFA')))\n",
    "players = players.sort_values(by='game')\n",
    "\n",
    "teams['game'] = teams['game'].apply(lambda x: int(x.strip('FIFA')))\n",
    "teams = teams.sort_values(by='game')\n",
    "\n",
    "leagues['game'] = leagues['game'].apply(lambda x: int(x.strip('FIFA')))\n",
    "leagues = leagues.sort_values(by='game')\n",
    "\n",
    "national['game'] = national['game'].apply(lambda x: int(x.strip('FIFA')))\n",
    "national = national.sort_values(by='game')"
   ]
  },
  {
   "cell_type": "code",
   "execution_count": null,
   "id": "3fbf8725-1bf2-4a00-bf45-d111331f0fed",
   "metadata": {
    "id": "3fbf8725-1bf2-4a00-bf45-d111331f0fed",
    "outputId": "03d5706d-a953-48dd-d0d6-b4a660fceeb4"
   },
   "outputs": [],
   "source": [
    "# объединяем и соединяем таблицы в основую таблицы df\n",
    "df = pd.merge(players, teams[['Name', 'League', 'country', 'game', 'ID']], left_on=['Team', 'game'], right_on=['Name', 'game'], how='left')\n",
    "df = df.rename(columns={'Name_x': 'Name', 'Name_y':'Team (again)', 'country_x': 'Player country', 'country_y': 'Team country', 'ID_x':'ID', 'ID_y': 'ID Team'})\n",
    "df = df.sort_values(by=['game'], ascending=[False])\n",
    "df = df.drop(columns='Team (again)')\n",
    "df = df.drop(columns=['Traits', 'PlayStyles', 'PlayStyles +', 'Joined', 'Acceleration Type'])\n",
    "df.columns"
   ]
  },
  {
   "cell_type": "markdown",
   "id": "3428a9da-689a-43ec-81a8-33fd58d2773e",
   "metadata": {},
   "source": [
    "Итак, у нас есть 4 таблицы с разными данными. Мы хотим более подробно посмотреть на эти данные. Для этого опишем столбцы всех таблиц:\n",
    "1. Таблица `leagues`. \n",
    "* `Name` $-$ название лиги; \n",
    "* `Teams` $-$ число команд в лиге; \n",
    "* `Players` $-$ число игроков в лиге; \n",
    "* `href` $-$ ссылка на лигу на сайте 'Sofifa.com'; \n",
    "* `country` $-$ страна, в которой базируется лига; \n",
    "* `game` $-$ номер игры (число $\\in [7, 24]$)\n",
    "\n",
    "2. Таблица `national`. \n",
    "* `Name` $-$ название национальной сборной; \n",
    "* `ID` $-$ уникальный идентификатор национальной сборной; \n",
    "* `Overall` $-$ общий рейтинг национальной сборной; \n",
    "* `Name` $-$ название национальной сборной; \n",
    "* `Attack` $-$ рейтинг атаки команды; \n",
    "* `Midfield` $-$ рейтинг полузащиты команды; \n",
    "* `Defence` $-$ рейтинг защиты команды; \n",
    "* `Speed` $-$ рейтинг скорости команды; \n",
    "* `Dribbling` $-$ рейтинг дриблинга команды; \n",
    "* `Passing` $-$ рейтинг передач команды; \n",
    "* `Positioning` $-$ рейтинг позиционной игры команды; \n",
    "* `Crossing` $-$ рейтинг навесов команды; \n",
    "* `Shooting` $-$ рейтинг удара команды; \n",
    "* `Aggression` $-$ рейтинг агрессии команды; \n",
    "* `Pressure` $-$ рейтинг прессинга команды; \n",
    "* `Team width` $-$ ширина расстановки команды на поле; \n",
    "* `Defender line` $-$ стиль линии защиты команды; \n",
    "* `International prestige` $-$ международный уровень престижа команды; \n",
    "* `Players` $-$ число игроков в составе сборной; \n",
    "* `Starting XI average age` $-$ средний возраст стартового состава; \n",
    "* `href` $-$ ссылка на страницу национальной сборной на сайте 'Sofifa.com'; \n",
    "* `game` $-$ номер игры (число $\\in [7, 24]$).\n",
    "\n",
    "3. Таблица `teams`. \n",
    "* `Name` $-$ название клуба; \n",
    "* `ID` $-$ уникальный идентификатор клуба; \n",
    "* `League` $-$ лига, в которой выступает клуб; \n",
    "* `Overall` $-$ общий рейтинг клуба; \n",
    "* `Attack` $-$ рейтинг атаки клуба; \n",
    "* `Midfield` $-$ рейтинг полузащиты клуба; \n",
    "* `Defence` $-$ рейтинг защиты клуба; \n",
    "* `Transfer budget` $-$ трансферный бюджет клуба; \n",
    "* `Club worth` $-$ общая стоимость клуба; \n",
    "* `Speed` $-$ рейтинг скорости команды; \n",
    "* `Dribbling` $-$ рейтинг дриблинга команды; \n",
    "* `Passing` $-$ рейтинг передач команды; \n",
    "* `Positioning` $-$ рейтинг позиционной игры команды; \n",
    "* `Crossing` $-$ рейтинг навесов команды; \n",
    "* `Shooting` $-$ рейтинг удара команды; \n",
    "* `Aggression` $-$ рейтинг агрессии команды; \n",
    "* `Pressure` $-$ рейтинг прессинга команды; \n",
    "* `Team width` $-$ ширина расстановки команды на поле; \n",
    "* `Defender line` $-$ стиль линии защиты команды; \n",
    "* `Domestic prestige` $-$ престиж клуба на внутренней арене; \n",
    "* `International prestige` $-$ международный престиж клуба; \n",
    "* `Players` $-$ число игроков в составе клуба; \n",
    "* `Starting XI average age` $-$ средний возраст стартового состава; \n",
    "* `Whole team average age` $-$ средний возраст всех игроков команды; \n",
    "* `href` $-$ ссылка на страницу клуба на сайте 'Sofifa.com'; \n",
    "* `country` $-$ страна, в которой базируется клуб; \n",
    "* `game` $-$ номер игры (число $\\in [7, 24]$).\n",
    "\n",
    "4. Таблица `players`. \n",
    "* `Name` $-$ имя игрока; \n",
    "* `Age` $-$ возраст игрока; \n",
    "* `Team` $-$ клуб, за который выступает игрок; \n",
    "* `Best position` $-$ основная позиция игрока на поле; \n",
    "* `Overall rating` $-$ общий рейтинг игрока; \n",
    "* `Potential` $-$ потенциальный рейтинг игрока; \n",
    "* `ID` $-$ уникальный идентификатор игрока; \n",
    "* `Height` $-$ рост игрока (см); \n",
    "* `Weight` $-$ вес игрока (кг); \n",
    "* `foot` $-$ ведущая нога (левша/правша); \n",
    "* `Joined` $-$ дата присоединения к клубу; \n",
    "* `Value` $-$ стоимость игрока; \n",
    "* `Wage` $-$ зарплата игрока; \n",
    "* `Release clause` $-$ сумма отступных за игрока (при выплате этой суммы можно пропустить этап переговоров с командой при покупке игрока); \n",
    "* `Total attacking` $-$ общий рейтинг атакующих навыков; \n",
    "* `Crossing` $-$ точность навесов; \n",
    "* `Finishing` $-$ точность ударов; \n",
    "* `Heading accuracy` $-$ точность ударов головой; \n",
    "* `Short passing` $-$ точность коротких передач; \n",
    "* `Volleys` $-$ точность ударов с лёта; \n",
    "* `Total skill` $-$ общий рейтинг технических навыков; \n",
    "* `Dribbling` $-$ дриблинг; \n",
    "* `Curve` $-$ подкрутка мяча; \n",
    "* `FK Accuracy` $-$ точность ударов со штрафных; \n",
    "* `Long passing` $-$ точность длинных передач; \n",
    "* `Ball control` $-$ контроль мяча; \n",
    "* `Total movement` $-$ общий рейтинг движения; \n",
    "* `Acceleration` $-$ ускорение; \n",
    "* `Sprint speed` $-$ скорость бега; \n",
    "* `Agility` $-$ ловкость; \n",
    "* `Reactions` $-$ реакция; \n",
    "* `Balance` $-$ баланс; \n",
    "* `Total power` $-$ общий рейтинг физических качеств; \n",
    "* `Shot power` $-$ сила удара; \n",
    "* `Jumping` $-$ высота прыжка; \n",
    "* `Stamina` $-$ выносливость; \n",
    "* `Strength` $-$ сила; \n",
    "* `Long shots` $-$ точность дальних ударов; \n",
    "* `Total mentality` $-$ общий рейтинг ментальных характеристик; \n",
    "* `Aggression` $-$ агрессия; \n",
    "* `Tactical Awareness` $-$ тактическое понимание игры; \n",
    "* `Positioning` $-$ умение выбирать позицию; \n",
    "* `Vision` $-$ видение поля; \n",
    "* `Penalties` $-$ точность пенальти; \n",
    "* `Composure` $-$ хладнокровие; \n",
    "* `Total defending` $-$ общий рейтинг защитных навыков; \n",
    "* `Marking` $-$ опека игроков; \n",
    "* `Tackling` $-$ точность отбора мяча; \n",
    "* `Sliding tackle` $-$ точность подкатов; \n",
    "* `Standing tackle` $-$ точность отбора без подката; \n",
    "* `Interceptions` $-$ перехваты; \n",
    "* `Total goalkeeping` $-$ общий рейтинг вратарских навыков; \n",
    "* `GK Diving` $-$ умение вратаря прыгать за мячом; \n",
    "* `GK Handling` $-$ умение вратаря фиксировать мяч; \n",
    "* `GK Kicking` $-$ сила и точность ударов вратаря; \n",
    "* `GK Positioning` $-$ выбор позиции вратаря; \n",
    "* `GK Reflexes` $-$ реакция вратаря; \n",
    "* `Total stats` $-$ сумма всех характеристик игрока; \n",
    "* `Base stats` $-$ сумма основных характеристик игрока; \n",
    "* `Weak foot` $-$ уровень владения слабой ногой; \n",
    "* `Skill moves` $-$ уровень выполнения финтов; \n",
    "* `Attacking work rate` $-$ интенсивность атакующих действий; \n",
    "* `Defensive work rate` $-$ интенсивность защитных действий; \n",
    "* `International reputation` $-$ уровень международного признания игрока; \n",
    "* `Real face` $-$ наличие реалистичного лица (для наиболее известных игроков делают сканирование лица с последующей интеграцией скана в игру) в игре $-$ возможно, этот показатель поможет отделить наиболее известных игроков с высоким рейтингом от других; \n",
    "* `Pace / Diving` $-$ скорость (для полевых игроков) или умение прыгать (для вратарей); \n",
    "* `Shooting / Handling` $-$ удар (для полевых игроков) или умение фиксировать мяч (для вратарей); \n",
    "* `Passing / Kicking` $-$ передача (для полевых игроков) или игра ногами (для вратарей); \n",
    "* `Dribbling / Reflexes` $-$ дриблинг (для полевых игроков) или рефлексы (для вратарей); \n",
    "* `Defending / Pace` $-$ защита (для полевых игроков) или скорость (для вратарей); \n",
    "* `Physical / Positioning` $-$ физические характеристики (для полевых игроков) или выбор позиции (для вратарей); \n",
    "* `Traits` $-$ список особенностей игрока; \n",
    "* `PlayStyles` $-$ список игровых стилей; \n",
    "* `PlayStyles +` $-$ список улучшенных игровые стили; \n",
    "* `Number of traits` $-$ количество особенностей игрока; \n",
    "* `Number of playstyles` $-$ количество игровых стилей; \n",
    "* `Acceleration Type` $-$ тип ускорения игрока; \n",
    "* `Positions` $-$ все возможные позиции, на которых может играть игрок; \n",
    "* `Start of contract` $-$ дата начала контракта; \n",
    "* `End of contract` $-$ дата окончания контракта; \n",
    "* `On loan` $-$ флаг, обозначающий аренду игрока (Yes/No); \n",
    "* `Loan end` $-$ дата окончания аренды; \n",
    "* `href` $-$ ссылка на страницу игрока на сайте 'Sofifa.com'; \n",
    "* `country` $-$ страна, которую представляет игрок; \n",
    "* `game` $-$ номер игры (число $\\in [7, 24]$).\n",
    "\n",
    "Отметим, что большинство характеристик из таблицы `players` $-$ это рейтинги в стобальной системе. При у многих характеристик-рейтингов есть большое количество пропусков, поскольку характеристики-различные рейтинги появлялись не сразу (например, `Tackling`). Также отметим, что список позиций игроков конечный: `GK` $-$ вратарь, `CB` $-$ центральный защитник, `LB` $-$ левый защитник, `RB` $-$ правый защитник, `LWB` $-$ левый фланговый защитник, `RWB` $-$ правый фланговый защитник, `CDM` $-$ центральный защитный полузащитник, `CM` $-$ центральный полузащитник, `CAM` $-$ центральный аттакующий полузащитник, `LM` $-$ левый полузащитник, `RM` $-$ правый полузащитник, `ST` $-$ нападающий, `CF` $-$ центральный форвард, `LW` $-$ левый фланговый нападающий, `RW` $-$ правый фланговый нападающий. Также есть и другие позиции, но они были удалены из современных частей, поэтому их доля в общей выборке пренебрежимо мала. \n",
    "\n",
    "<img src=\"https://i.ibb.co/x83FxJdv/Positions-in-football-on-a-pitch.png\" alt=\"Positions-in-football-on-a-pitch\" border=\"1\">\n",
    "\n",
    "Также отметим, что у нас есть много данных с дополнительной информацией (metadata): страны, лиги, команды и т. д. Их можно использовать для построения более полной картины анализа"
   ]
  },
  {
   "cell_type": "code",
   "execution_count": null,
   "id": "28223137-e908-4ca7-9fa0-ca40ff08c519",
   "metadata": {},
   "outputs": [],
   "source": [
    "# размерность основной таблицы\n",
    "df.shape"
   ]
  },
  {
   "cell_type": "code",
   "execution_count": null,
   "id": "ba54880c",
   "metadata": {},
   "outputs": [],
   "source": [
    "df.describe() # смотрим числовые характеристики"
   ]
  },
  {
   "cell_type": "markdown",
   "id": "e627044f",
   "metadata": {},
   "source": [
    "Смотря на числовые характеристики различных признаков, которые у нас есть, можем заметить, что большинства признаков достаточно большое стандартное отклонение ($15-25$ по стобальной шкале), что свидетельствует о том, что между игроками с разных позиций есть существенные различия в некоторых рейтингах. При этом агрегирующие характеристики (`Overall rating` и `Potential`) имеют сравнительно небольшое стандартное отклонение. Интересно также то, что интерквартильный размах у возраста (`Age`) составляет $7$ лет, а квантиль уровня $25\\%$ для `Wage` составляет $0$. "
   ]
  },
  {
   "cell_type": "code",
   "execution_count": null,
   "id": "6abd4619",
   "metadata": {},
   "outputs": [],
   "source": [
    "df.isna().mean().sort_values(ascending=False).head(20) # смотрим на пропуски"
   ]
  },
  {
   "cell_type": "markdown",
   "id": "e2bf3512",
   "metadata": {},
   "source": [
    "Мы видим, что в некоторых столбцах нашей таблицы (`Loan end`, `Number of playstyles`, `Tackling`, `Tactical Awareness`, `Positioning`, `Defensive awareness`) очень много (больше половины) значений $-$ это пропуски. Это может быть обусловлено тем, что `Loan end` имеет значение `np.nan` всегда, если игрок не находится в аренде (что бывает не так часто). `Number of playstyles` содержит многочисленные порпуски, поскольку эта характеристика была добавлена лишь в последний частях игр (аналогичная ситуация для `Tackling`, `Tactical Awareness`, `Positioning` и `Defensive awareness`). В случае с `Marking`, `Attacking work rate`, `Defensive work rate`, `Interceptions`, `Att. Position`, `Standing tackle`, `Number of traits` пропуски также вызваны тем, что эти параметры были добавлены не игру не сразу. В случае же с `Start of contract`, `End of contract`, `Team country`, `League` пропуски обусловлены сущностью данных (пропуски будут, например, тогда, когда игрок не играет ни за какую-то команду $-$ `Team==Free`). "
   ]
  },
  {
   "cell_type": "code",
   "execution_count": null,
   "id": "920ddc24-c846-4436-b5e0-e4234589f3be",
   "metadata": {},
   "outputs": [],
   "source": [
    "df"
   ]
  },
  {
   "cell_type": "code",
   "execution_count": null,
   "id": "0fb2af8a-c938-4a7c-a22e-4b9a38cda4ea",
   "metadata": {},
   "outputs": [],
   "source": []
  },
  {
   "cell_type": "markdown",
   "id": "2eea26cc-1803-4965-ad73-17ff8d0eb46c",
   "metadata": {
    "id": "2eea26cc-1803-4965-ad73-17ff8d0eb46c"
   },
   "source": [
    "### Функции"
   ]
  },
  {
   "cell_type": "markdown",
   "id": "eeff4c60",
   "metadata": {},
   "source": [
    "Для удобной работы мы написали несколько функций в `_funcs.project`. Возможно, эти функции позволят повысить наглядность проекта, а также скорость построения основных графиков для сравнения. Продемонстрируем работу этих функций (у функций есть базовая документация и аннотация типов)"
   ]
  },
  {
   "cell_type": "code",
   "execution_count": null,
   "id": "780a6f77-50d1-4d2d-b253-68e3e08b52f9",
   "metadata": {
    "id": "780a6f77-50d1-4d2d-b253-68e3e08b52f9",
    "outputId": "31772b56-5f0e-4872-e035-63710c5c7f40"
   },
   "outputs": [],
   "source": [
    "draw_player(173731, players)"
   ]
  },
  {
   "cell_type": "code",
   "execution_count": null,
   "id": "d21c2be8-4dd3-4841-9e38-396ef90b1323",
   "metadata": {
    "id": "d21c2be8-4dd3-4841-9e38-396ef90b1323",
    "outputId": "125944b5-19e0-4530-f3d9-7e91bfd0a190"
   },
   "outputs": [],
   "source": [
    "draw_player_history(158023, players)"
   ]
  },
  {
   "cell_type": "code",
   "execution_count": null,
   "id": "10d0a391-beeb-46e9-a70d-114eefc922c9",
   "metadata": {
    "id": "10d0a391-beeb-46e9-a70d-114eefc922c9",
    "outputId": "e55c4e48-ece7-4622-9942-300efe18b82f"
   },
   "outputs": [],
   "source": [
    "draw_player_stat([167495, 1179, 193080], players, 'Overall rating')"
   ]
  },
  {
   "cell_type": "code",
   "execution_count": null,
   "id": "3c4f9faa-7005-4972-af47-1f7066157561",
   "metadata": {},
   "outputs": [],
   "source": []
  },
  {
   "cell_type": "markdown",
   "id": "9ad68cd1-2bdd-4230-ab41-59de8f97fedb",
   "metadata": {
    "id": "9ad68cd1-2bdd-4230-ab41-59de8f97fedb"
   },
   "source": [
    "### Визуализации"
   ]
  },
  {
   "cell_type": "markdown",
   "id": "d0005716",
   "metadata": {},
   "source": [
    "Теперь мы переходим к части с визуализациями. В этом разделе авторам хотелось бы понять, какие есть связи между различными признаками, а также посмотреть на распределения отдельных признаков. Это важно, поскольку данные, с которыми мы будем работать имеют крайне высокую размерность и есть риск столкнуться с [проклятьем размерностей](https://ru.wikipedia.org/wiki/%D0%9F%D1%80%D0%BE%D0%BA%D0%BB%D1%8F%D1%82%D0%B8%D0%B5_%D1%80%D0%B0%D0%B7%D0%BC%D0%B5%D1%80%D0%BD%D0%BE%D1%81%D1%82%D0%B8). Большинство признаков имеют вид некоторого рейтинга и изменяются от $1$ до $99$ (хотя чаще диапазон значений более узкий). Для того, чтобы не строить много однотипных гистограмм с распределением различных признаков, было решено построить один интерактивный дэшбоард, в котором можно будет увидеть распределения основных \"рейтингоподобных\" признаков. "
   ]
  },
  {
   "cell_type": "markdown",
   "id": "97126318-51f6-4652-94b0-c7a1f7fe22d2",
   "metadata": {},
   "source": [
    "Для того, чтобы появился интерактивный дашборд (при открытии ноутбука дэшборда не будет), необходимо запустить ноутбук и все ячейки в нем. Интерактивная гистограмма должна выглядить примерно следующим образом: \n",
    "\n",
    "<img src=\"https://i.ibb.co/Z1ksL8tp/2025-02-20-103945.png\" alt=\"2025-02-20-103945\" border=\"1\">"
   ]
  },
  {
   "cell_type": "code",
   "execution_count": null,
   "id": "0ab0bed9-ac4f-4672-8f49-0932392b3381",
   "metadata": {
    "editable": true,
    "id": "0ab0bed9-ac4f-4672-8f49-0932392b3381",
    "outputId": "3ef8a15c-aa66-4567-a852-2a3c8d669cf0",
    "tags": []
   },
   "outputs": [],
   "source": [
    "draw_general_visualization(df)"
   ]
  },
  {
   "cell_type": "markdown",
   "id": "97b4c177",
   "metadata": {},
   "source": [
    "Итак, какие выводы можно сделать, подробно изучив интерактивный дэшбоард? $-$ Большинство признаков имеют ненормальное распределение с тяжелым левым хвостом. Это можно объяснить тем, что зачастую между вратарями и полевыми игроками есть большая разница в скиллах, и поэтому в левом хвосте чаще находятся вратари, а в правом $-$ полевые. Кроме того, есть большое количество признаков с мультимодальным распределением (например, `Long passing`). "
   ]
  },
  {
   "cell_type": "markdown",
   "id": "a1b274cd",
   "metadata": {},
   "source": [
    "Теперь посмотрим на попарные корреляции Пирсона, расчитанные для числовых признаков: "
   ]
  },
  {
   "cell_type": "code",
   "execution_count": null,
   "id": "24f91464-f9ad-4df7-9095-eb2a38323d8c",
   "metadata": {
    "id": "24f91464-f9ad-4df7-9095-eb2a38323d8c",
    "outputId": "1df835e7-7356-4869-8065-53bb70bdecba"
   },
   "outputs": [],
   "source": [
    "px.imshow(df.drop(columns=['ID', 'game', 'Start of contract', 'End of contract', 'Loan end']).corr(method='pearson', numeric_only=True), \n",
    "          color_continuous_scale='RdPu')"
   ]
  },
  {
   "cell_type": "markdown",
   "id": "09867133",
   "metadata": {},
   "source": [
    "На тепловой карте явно выделяются признаки, связанные с скиллами вратарей. Это обусловлено тем, что у вратарей высокие характеристики, связанные с их основной позицией, но при этом низкие остальные характеристики. "
   ]
  },
  {
   "cell_type": "markdown",
   "id": "e5e5f30b",
   "metadata": {},
   "source": [
    "В данных, которые мы спарсили, много информации о странах и регионах. Именно поэтому хочется визуализировать региональные различия в футболе на интерактивной карте. Для начала изобразим рейтинг лучших футболистов всех доступных стран. "
   ]
  },
  {
   "cell_type": "code",
   "execution_count": null,
   "id": "c3cfb553",
   "metadata": {},
   "outputs": [],
   "source": [
    "players_grouped = players.groupby('country', as_index=False)['Overall rating'].max()\n",
    "fig = px.choropleth(\n",
    "    players.loc[players.groupby('country')['Overall rating'].idxmax(), ['country', 'Name', 'Overall rating']],\n",
    "    locations=\"country\",\n",
    "    locationmode=\"country names\",\n",
    "    color=\"Overall rating\",\n",
    "    hover_name=\"country\",\n",
    "    hover_data={\"Overall rating\": True, \"Name\": True},\n",
    "    color_continuous_scale=\"RdPu\",\n",
    "    title=\"Best players' ratings (overall ratings) by countries across FIFA games\"\n",
    ")\n",
    "fig.update_layout(font=dict(size=14), plot_bgcolor='white', width=1200, height=750)\n",
    "fig.update_geos(projection_type=\"natural earth\")\n",
    "fig.show()"
   ]
  },
  {
   "cell_type": "markdown",
   "id": "b233e1bf",
   "metadata": {},
   "source": [
    "Несмотря на то, что идея изобразить максимальный рейтинг футболистов по странам может показаться странной из-за многочисленных выбросов, мы получаем весьма осмысленный результат (однако все еще много выбросов в страннах с сравнительно слабыми футбольными федерациями). "
   ]
  },
  {
   "cell_type": "markdown",
   "id": "ca990baa",
   "metadata": {},
   "source": [
    "Для того, чтобы избавиться от выбросов построим карту по медианным рейтингам игроков по странам "
   ]
  },
  {
   "cell_type": "code",
   "execution_count": null,
   "id": "f543646a-3f65-43dc-8607-ab2775347f6e",
   "metadata": {},
   "outputs": [],
   "source": [
    "players_grouped = players.groupby('country', as_index=False)['Overall rating'].median()\n",
    "\n",
    "fig = px.choropleth(\n",
    "    players_grouped,\n",
    "    locations=\"country\",\n",
    "    locationmode=\"country names\",\n",
    "    color=\"Overall rating\",\n",
    "    hover_name=\"country\",\n",
    "    color_continuous_scale=\"Magenta\",\n",
    "    title=\"Median players' ratings (overall ratings) by countries across FIFA games\"\n",
    ")\n",
    "fig.update_layout(font=dict(size=14), plot_bgcolor='white', width=1200, height=750)\n",
    "fig.update_geos(projection_type=\"orthographic\")\n",
    "fig.show()"
   ]
  },
  {
   "cell_type": "markdown",
   "id": "b6d911bd",
   "metadata": {},
   "source": [
    "Теперь мы получили странный результат: у европейских стран зачастую рейтинг ниже, чем у африканских. Это обусловлено тем, что выборки несколько смещенные: в игру попадают только известные африканские игроки с высоким рейтингом, в то время как европейские игроки попадают в игру независимо от рейтинга. "
   ]
  },
  {
   "cell_type": "code",
   "execution_count": null,
   "id": "6b0d00b6-375c-4807-8fcc-ef1e4f749cf8",
   "metadata": {
    "editable": true,
    "id": "6b0d00b6-375c-4807-8fcc-ef1e4f749cf8",
    "outputId": "51c8dbec-e38b-400e-a481-8469d299996e",
    "tags": []
   },
   "outputs": [],
   "source": [
    "players_grouped = players.groupby(['game', 'country'], as_index=False)['Overall rating'].mean()\n",
    "\n",
    "fig = px.choropleth(\n",
    "    players_grouped,\n",
    "    locations=\"country\",\n",
    "    locationmode=\"country names\",\n",
    "    color=\"Overall rating\",\n",
    "    hover_name=\"country\",\n",
    "    animation_frame=\"game\",\n",
    "    color_continuous_scale=\"RdPu\",\n",
    "    title=\"Average players' ratings (overall ratings) by countries across FIFA games\"\n",
    ")\n",
    "fig.update_layout(font=dict(size=14), plot_bgcolor='white', width=1200, height=750)\n",
    "fig.show()"
   ]
  },
  {
   "cell_type": "markdown",
   "id": "9a9bb696",
   "metadata": {},
   "source": [
    "Как ни странно, средние рейтинги дают более осмысленный результат с меньшим числов выбросов, чем медианные. "
   ]
  },
  {
   "cell_type": "markdown",
   "id": "6d4a32a5",
   "metadata": {},
   "source": [
    "Наконец, посмотрим на рейтинги не конкретных игроков, а на рейтинги целых национальных сборных. "
   ]
  },
  {
   "cell_type": "code",
   "execution_count": null,
   "id": "af2ba0e7-ca5e-40b9-b704-64d21d59893c",
   "metadata": {
    "id": "af2ba0e7-ca5e-40b9-b704-64d21d59893c",
    "outputId": "f91f6f18-f657-422c-b349-1ebbac8918f0"
   },
   "outputs": [],
   "source": [
    "fig = px.choropleth(\n",
    "    national,\n",
    "    locations=\"Name\",\n",
    "    locationmode=\"country names\",\n",
    "    color=\"Overall\",\n",
    "    hover_name=\"Name\",\n",
    "    animation_frame=\"game\",\n",
    "    color_continuous_scale=\"Magenta\",\n",
    "    title=\"National teams ratings (overall ratings) by countries across FIFA games\"\n",
    ")\n",
    "fig.update_layout(font=dict(size=14), plot_bgcolor='white', width=1200, height=750,)\n",
    "fig.show()"
   ]
  },
  {
   "cell_type": "markdown",
   "id": "3190a24a",
   "metadata": {},
   "source": [
    "Стоит отметить, что национальных сборных меньше, чем национальностей игроков. Поэтому на карте много \"серых\" зон. Явно выделяется Европа и Южная Америка, что соответствует действительности. "
   ]
  },
  {
   "cell_type": "markdown",
   "id": "4d47550d",
   "metadata": {},
   "source": [
    "Посмотрим, как менялся в среднем менялся рейтинг (`Overall rating`) игроков в разные годы. "
   ]
  },
  {
   "cell_type": "code",
   "execution_count": null,
   "id": "09135e9c-4a8e-4bb8-ba32-73a2b73fc8ba",
   "metadata": {
    "id": "09135e9c-4a8e-4bb8-ba32-73a2b73fc8ba",
    "outputId": "e2b1bb71-65a2-48d9-cd21-d82088574639"
   },
   "outputs": [],
   "source": [
    "px.line(\n",
    "    players[['Overall rating', 'game']].groupby('game')['Overall rating'].mean(),\n",
    "    color_discrete_sequence=['purple'],\n",
    "    markers=True,\n",
    "    title='Average overall rating across all FIFA games'\n",
    ")"
   ]
  },
  {
   "cell_type": "markdown",
   "id": "581cb65a",
   "metadata": {},
   "source": [
    "Волатильность среднего `Overall rating` уменьшилась с годами. "
   ]
  },
  {
   "cell_type": "markdown",
   "id": "5da8444f",
   "metadata": {},
   "source": [
    "У всех игроков есть два столбца, связанных с позицией на поле: `Best position` и `Positions`. `Best position` $-$ для основной позиции игрока; `Positions` $-$ для списка всех позиций, на которых может играть футболист. Хочется посмотреть на \"перекосы\" в числе игроков определенных позиций. Для этого построим `pieplot`. "
   ]
  },
  {
   "cell_type": "code",
   "execution_count": null,
   "id": "5c4b1e08-7266-4f6f-a550-d5f95e7d0d29",
   "metadata": {
    "id": "5c4b1e08-7266-4f6f-a550-d5f95e7d0d29",
    "outputId": "761b0e45-6081-4111-dc65-7725d6e011fe"
   },
   "outputs": [],
   "source": [
    "players_grouped = players[~players['Best position'].isin(['SW', 'LF', 'RF'])].groupby('Best position')['Best position'].count()\n",
    "color_sequence = [\n",
    "    \"#800080\", \"#8B008B\", \"#9400D3\", \"#9932CC\", \"#A020F0\",\n",
    "    \"#A52AFA\", \"#B030C3\", \"#BA55D3\", \"#C71585\", \"#D02090\",\n",
    "    \"#DA70D6\", \"#E066FF\", \"#EE82EE\", \"#FA58FC\", \"#FF00FF\"]\n",
    "\n",
    "px.pie(\n",
    "    players_grouped,\n",
    "    names=players_grouped.index,\n",
    "    values=players_grouped,\n",
    "    color_discrete_sequence=color_sequence,\n",
    "    title='Distribution of positions across all FIFA games'\n",
    ")"
   ]
  },
  {
   "cell_type": "markdown",
   "id": "9bb85c30",
   "metadata": {},
   "source": [
    "По меньшей мере, есть позиции `SW`, `LF`, `RF`, которых очень мало в исходной выборке; мы их исключили из рассмотрения. Кроме того, есть существенные различия в популярности позиций `CB`, `ST`, `GK`, `CAM` и позиций `LWB`, `RWB`, `LW`, `RW`. "
   ]
  },
  {
   "cell_type": "markdown",
   "id": "6a4fbc1f",
   "metadata": {},
   "source": [
    "Теперь более подробно рассмотрим распределения конкретных признаков. Начем с `Overall` для таблицы `Teams`. "
   ]
  },
  {
   "cell_type": "code",
   "execution_count": null,
   "id": "2160d75c-668b-4266-9813-d131ecfe000f",
   "metadata": {
    "id": "2160d75c-668b-4266-9813-d131ecfe000f",
    "outputId": "3ba9c316-041b-4dce-ad44-29c2f48c982f"
   },
   "outputs": [],
   "source": [
    "fig = px.histogram(\n",
    "    teams,\n",
    "    x='Overall',\n",
    "    barmode='overlay',\n",
    "    histnorm='probability density',\n",
    "    color_discrete_sequence=['purple'],\n",
    "    title=\"Teams' overall ratings across FIFA games\"\n",
    ")\n",
    "fig.update_layout(\n",
    "    font=dict(size=14),\n",
    "    plot_bgcolor='white',\n",
    "    bargap=0.1,\n",
    "    xaxis_title=\"Overall Rating\",\n",
    "    yaxis_title=\"Density\"\n",
    ")\n",
    "fig.show()"
   ]
  },
  {
   "cell_type": "markdown",
   "id": "59399e7c",
   "metadata": {},
   "source": [
    "Похоже на нормальное распределение"
   ]
  },
  {
   "cell_type": "markdown",
   "id": "5d75343b",
   "metadata": {},
   "source": [
    "Теперь посмотрим на распределения `Overall` по отдельным играм. "
   ]
  },
  {
   "cell_type": "code",
   "execution_count": null,
   "id": "402938af-6768-4664-b5a1-8c176e56a6bb",
   "metadata": {
    "id": "402938af-6768-4664-b5a1-8c176e56a6bb",
    "outputId": "0d52accd-5f30-476a-9abe-8bdb7e86d343"
   },
   "outputs": [],
   "source": [
    "fig = px.histogram(\n",
    "    players,\n",
    "    x=\"Overall rating\",\n",
    "    barmode=\"overlay\",\n",
    "    color=\"game\",\n",
    "    histnorm=\"probability density\",\n",
    "    title=\"Distribution of Player 'Overall rating' Across FIFA Games\",\n",
    "    animation_frame=\"game\",\n",
    "    color_discrete_sequence=['purple'],\n",
    "    range_x = [20, 100],\n",
    "    range_y = [0, 0.07]\n",
    ")\n",
    "\n",
    "fig.update_layout(\n",
    "    font=dict(size=14),\n",
    "    plot_bgcolor='white',\n",
    "    xaxis_title=\"Overall Rating\",\n",
    "    yaxis_title=\"Density\",\n",
    "    bargap=0.1\n",
    ")\n",
    "\n",
    "fig.show()"
   ]
  },
  {
   "cell_type": "markdown",
   "id": "05f6ee9c",
   "metadata": {},
   "source": [
    "Посмотрим на распределение `Overall rating`. "
   ]
  },
  {
   "cell_type": "code",
   "execution_count": null,
   "id": "2e8e1f77-1ef8-4d6f-81f8-e64de1b46be8",
   "metadata": {
    "id": "2e8e1f77-1ef8-4d6f-81f8-e64de1b46be8",
    "outputId": "afd4afe4-d559-48d3-ce5c-d7b0d3d5a7c5"
   },
   "outputs": [],
   "source": [
    "fig = px.histogram(\n",
    "    players,\n",
    "    x=\"Overall rating\",\n",
    "    barmode=\"overlay\",\n",
    "    histnorm=\"probability density\",\n",
    "    title=\"Distribution of Player 'Overall rating' Across all FIFA Games\",\n",
    "    color_discrete_sequence=['purple']\n",
    ")\n",
    "\n",
    "fig.update_layout(\n",
    "    font=dict(size=14),\n",
    "    plot_bgcolor='white',\n",
    "    xaxis_title=\"Overall Rating\",\n",
    "    yaxis_title=\"Density\",\n",
    "    bargap=0.1\n",
    ")\n",
    "\n",
    "fig.show()"
   ]
  },
  {
   "cell_type": "markdown",
   "id": "0916f914",
   "metadata": {},
   "source": [
    "Очень похоже на нормальное. "
   ]
  },
  {
   "cell_type": "markdown",
   "id": "594348e1",
   "metadata": {},
   "source": [
    "Посмотрим на распределение `Potential`. "
   ]
  },
  {
   "cell_type": "code",
   "execution_count": null,
   "id": "106b649e-fcea-4766-967d-e35121fb4bd1",
   "metadata": {
    "id": "106b649e-fcea-4766-967d-e35121fb4bd1",
    "outputId": "f56b5bbc-49d0-4866-a4b6-661292cadf49"
   },
   "outputs": [],
   "source": [
    "fig = px.histogram(\n",
    "    players,\n",
    "    x=\"Potential\",\n",
    "    barmode=\"overlay\",\n",
    "    color=\"game\",\n",
    "    histnorm=\"probability density\",\n",
    "    title=\"Distribution of Player 'Potential Ratings' Across FIFA Games\",\n",
    "    animation_frame=\"game\",\n",
    "    color_discrete_sequence=['purple'],\n",
    "    range_x = [30, 100],\n",
    "    range_y = [0, 0.07]\n",
    ")\n",
    "\n",
    "fig.update_layout(\n",
    "    font=dict(size=14),\n",
    "    plot_bgcolor='white',\n",
    "    xaxis_title=\"Potential Rating\",\n",
    "    yaxis_title=\"Density\",\n",
    "    bargap=0.1\n",
    ")\n",
    "\n",
    "fig.show()"
   ]
  },
  {
   "cell_type": "markdown",
   "id": "9f2d85aa",
   "metadata": {},
   "source": [
    "Похоже на нормальное; весьма пологое"
   ]
  },
  {
   "cell_type": "markdown",
   "id": "cbf36095",
   "metadata": {},
   "source": [
    "Агрегированный `Potential`. "
   ]
  },
  {
   "cell_type": "code",
   "execution_count": null,
   "id": "8f8d2181-e005-45bf-96af-be4a37e9eb88",
   "metadata": {
    "id": "8f8d2181-e005-45bf-96af-be4a37e9eb88",
    "outputId": "bf459622-302f-4b8f-ab2c-6257ef9d193f"
   },
   "outputs": [],
   "source": [
    "fig = px.histogram(\n",
    "    players,\n",
    "    x=\"Potential\",\n",
    "    barmode=\"overlay\",\n",
    "    histnorm=\"probability density\",\n",
    "    title=\"Distribution of Player 'Potential Ratings' Across FIFA Games\",\n",
    "    color_discrete_sequence=['purple'],\n",
    ")\n",
    "\n",
    "fig.update_layout(\n",
    "    font=dict(size=14),\n",
    "    plot_bgcolor='white',\n",
    "    xaxis_title=\"Potential Rating\",\n",
    "    yaxis_title=\"Density\",\n",
    "    bargap=0.1\n",
    ")\n",
    "\n",
    "fig.show()"
   ]
  },
  {
   "cell_type": "markdown",
   "id": "f11594be",
   "metadata": {},
   "source": [
    "Хорошо описывается нормальным распределением. "
   ]
  },
  {
   "cell_type": "markdown",
   "id": "7fb9e9b2",
   "metadata": {},
   "source": [
    "Смотрим на распределение `Total attacking`. "
   ]
  },
  {
   "cell_type": "code",
   "execution_count": null,
   "id": "ea291d0b-d0ad-4cd1-891b-d40f69810782",
   "metadata": {
    "id": "ea291d0b-d0ad-4cd1-891b-d40f69810782",
    "outputId": "ef798fce-eadd-49e5-933f-b02479f6e1dd"
   },
   "outputs": [],
   "source": [
    "fig = px.histogram(\n",
    "    players,\n",
    "    x=\"Total attacking\",\n",
    "    barmode=\"overlay\",\n",
    "    color=\"game\",\n",
    "    histnorm=\"probability density\",\n",
    "    title=\"Distribution of Player 'Total attacking' Across FIFA Games\",\n",
    "    animation_frame=\"game\",\n",
    "    color_discrete_sequence=['purple'],\n",
    "    range_y = [0, 0.01]\n",
    ")\n",
    "\n",
    "fig.update_layout(\n",
    "    font=dict(size=14),\n",
    "    plot_bgcolor='white',\n",
    "    xaxis_title=\"Total attacking\",\n",
    "    yaxis_title=\"Density\",\n",
    "    bargap=0.1\n",
    ")\n",
    "\n",
    "fig.show()"
   ]
  },
  {
   "cell_type": "markdown",
   "id": "0d8be5f7",
   "metadata": {},
   "source": [
    "Не похоже на нормальное, есть тяжелый левый хвост. "
   ]
  },
  {
   "cell_type": "markdown",
   "id": "422fd90f",
   "metadata": {},
   "source": [
    "Агрегированный  показатель `Total attacking`. "
   ]
  },
  {
   "cell_type": "code",
   "execution_count": null,
   "id": "bfb11b5f-16fe-4283-ba26-741fdfe7700c",
   "metadata": {
    "id": "bfb11b5f-16fe-4283-ba26-741fdfe7700c",
    "outputId": "4173c49b-5299-4ee7-b7fd-ded192dbff65"
   },
   "outputs": [],
   "source": [
    "fig = px.histogram(\n",
    "    players,\n",
    "    x=\"Total attacking\",\n",
    "    barmode=\"overlay\",\n",
    "    histnorm=\"probability density\",\n",
    "    title=\"Distribution of Player 'Total attacking Ratings' Across FIFA Games\",\n",
    "    color_discrete_sequence=['purple'],\n",
    "    nbins=100\n",
    ")\n",
    "\n",
    "fig.update_layout(\n",
    "    font=dict(size=14),\n",
    "    plot_bgcolor='white',\n",
    "    xaxis_title=\"Total attacking\",\n",
    "    yaxis_title=\"Density\",\n",
    "    bargap=0.1\n",
    ")\n",
    "\n",
    "fig.show()"
   ]
  },
  {
   "cell_type": "markdown",
   "id": "04323704",
   "metadata": {},
   "source": [
    "Распределение не похоже на нормальное, есть тяжелый левый хвост. "
   ]
  },
  {
   "cell_type": "markdown",
   "id": "ee13c44e",
   "metadata": {},
   "source": [
    "Наконец, смотрим на распределение `Total goalkeeping`. "
   ]
  },
  {
   "cell_type": "code",
   "execution_count": null,
   "id": "f37522d5-cb1c-4765-bafb-6763e1023cf6",
   "metadata": {
    "id": "f37522d5-cb1c-4765-bafb-6763e1023cf6",
    "outputId": "9f3d8ca8-b51e-4113-bf30-ed87d5afe9a2"
   },
   "outputs": [],
   "source": [
    "fig = px.histogram(\n",
    "    players,\n",
    "    x=\"Total goalkeeping\",\n",
    "    barmode=\"overlay\",\n",
    "    color=\"game\",\n",
    "    histnorm=\"probability density\",\n",
    "    title=\"Distribution of Player 'Total goalkeeping Ratings' Across FIFA Games\",\n",
    "    animation_frame=\"game\",\n",
    "    color_discrete_sequence=['purple'],\n",
    "    range_y=[0, 0.07]\n",
    ")\n",
    "\n",
    "fig.update_layout(\n",
    "    font=dict(size=14),\n",
    "    plot_bgcolor='white',\n",
    "    xaxis_title=\"Total goalkeeping\",\n",
    "    yaxis_title=\"Density\",\n",
    "    bargap=0.1\n",
    ")\n",
    "\n",
    "fig.show()"
   ]
  },
  {
   "cell_type": "markdown",
   "id": "cdbcc253",
   "metadata": {},
   "source": [
    "Распределение мультимодальное; не похоже на нормальное; есть тяжелый правый хвост. "
   ]
  },
  {
   "cell_type": "markdown",
   "id": "1795124f",
   "metadata": {},
   "source": [
    "Рассмотрим агрегированный `Total goalkeeping`. "
   ]
  },
  {
   "cell_type": "code",
   "execution_count": null,
   "id": "d2c30be8-5be5-4925-8b24-455eac533d6a",
   "metadata": {
    "id": "d2c30be8-5be5-4925-8b24-455eac533d6a",
    "outputId": "f286ad70-4f3b-4de3-f58f-fa80dfc248e0"
   },
   "outputs": [],
   "source": [
    "fig = px.histogram(\n",
    "    players,\n",
    "    x=\"Total goalkeeping\",\n",
    "    barmode=\"overlay\",\n",
    "    histnorm=\"probability density\",\n",
    "    title=\"Distribution of Player 'Total goalkeeping Ratings' Across FIFA Games\",\n",
    "    color_discrete_sequence=['purple'],\n",
    "    nbins=50\n",
    ")\n",
    "\n",
    "fig.update_layout(\n",
    "    font=dict(size=14),\n",
    "    plot_bgcolor='white',\n",
    "    xaxis_title=\"Total goalkeeping\",\n",
    "    yaxis_title=\"Density\",\n",
    "    bargap=0.1\n",
    ")\n",
    "\n",
    "fig.show()"
   ]
  },
  {
   "cell_type": "markdown",
   "id": "bfe310ed",
   "metadata": {},
   "source": [
    "Аналогично, распределение мультимодальное с тяжелым правым хвостом. "
   ]
  },
  {
   "cell_type": "markdown",
   "id": "c69bab13",
   "metadata": {},
   "source": [
    "Рассмотрим распределение зарплат игроков `Wages`. "
   ]
  },
  {
   "cell_type": "code",
   "execution_count": null,
   "id": "2104e883-c329-473b-afe3-df2c59128eb0",
   "metadata": {},
   "outputs": [],
   "source": [
    "fig = px.histogram(\n",
    "    players[players['game'].isin([i for i in range(12, 24 + 1)])],\n",
    "    x='Wage',\n",
    "    barmode='overlay',\n",
    "    histnorm='probability density',\n",
    "    color_discrete_sequence = ['purple'],\n",
    "    title=\"Wages across all FIFA games\"\n",
    ")\n",
    "fig.update_layout(\n",
    "    font=dict(size=14),\n",
    "    plot_bgcolor='white',\n",
    "    xaxis_title=\"Wage\",\n",
    "    yaxis_title=\"Density\"\n",
    ")\n",
    "fig.show()"
   ]
  },
  {
   "cell_type": "markdown",
   "id": "bc731b82",
   "metadata": {},
   "source": [
    "Очень большое количество игроков с маленькой, оклонулевой зарплатой. Есть выбросы с огромными зарплатами. "
   ]
  },
  {
   "cell_type": "markdown",
   "id": "fed95b51",
   "metadata": {},
   "source": [
    "Теперь посмотрим на стоимости игроков. "
   ]
  },
  {
   "cell_type": "code",
   "execution_count": null,
   "id": "4d8482da-ef51-4c3b-a9b3-baa280a087b7",
   "metadata": {},
   "outputs": [],
   "source": [
    "fig = px.histogram(\n",
    "    players[players['game'].isin([i for i in range(12, 24 + 1)])],\n",
    "    x='Value',\n",
    "    barmode='overlay',\n",
    "    histnorm='probability density',\n",
    "    color_discrete_sequence = ['purple'],\n",
    "    title=\"Values of players across all FIFA games\"\n",
    ")\n",
    "fig.update_layout(\n",
    "    font=dict(size=14),\n",
    "    plot_bgcolor='white',\n",
    "    xaxis_title=\"Value\",\n",
    "    yaxis_title=\"Density\"\n",
    ")\n",
    "fig.show()"
   ]
  },
  {
   "cell_type": "markdown",
   "id": "7acfbfb9",
   "metadata": {},
   "source": [
    "Похоже на распределение зарплат. Много \"недорогих\" игроков; много выбросов"
   ]
  },
  {
   "cell_type": "markdown",
   "id": "9cc45d2f",
   "metadata": {},
   "source": [
    "Посмотрим на многомерную взаимосвязь трех важных характеристик: `Age`, `Overall rating`, `Potential`. "
   ]
  },
  {
   "cell_type": "code",
   "execution_count": null,
   "id": "02e57f41-737e-42f3-b188-3c9544fb9549",
   "metadata": {
    "id": "02e57f41-737e-42f3-b188-3c9544fb9549",
    "outputId": "808156e3-01ca-4bc2-ae93-d0a2302187b4"
   },
   "outputs": [],
   "source": [
    "fig = px.scatter_3d(\n",
    "    players.sample(10000), \n",
    "    x='Age', \n",
    "    y='Potential', \n",
    "    z='Overall rating', \n",
    "    color_discrete_sequence=['purple'],\n",
    "    hover_data = ['Name', 'game'],\n",
    "    title = \"Connection between overall rating, potential rating and age across all FIFA games\"\n",
    ")\n",
    "fig.update_layout(\n",
    "    font=dict(size=14)\n",
    ")\n",
    "fig.show()"
   ]
  },
  {
   "cell_type": "markdown",
   "id": "2247ba58",
   "metadata": {},
   "source": [
    "Наблюдается тесная связь между `Overall rating` и `Potential` (что логично). При этом можно заметить, что у тех точек, у которых `Age` лежит рядом с $20$, есть больший разрыв в разнице между `Overall rating` и `Potential`. Это свидетельствует о том, что молодые игроки зачастую имеют не очень высокий фактический рейтинг `Overall rating`, но при этом потенциальный рейтинг `Potential` у них достаточно высокий. "
   ]
  },
  {
   "cell_type": "markdown",
   "id": "13031778",
   "metadata": {},
   "source": [
    "Расмотрим зависимость `Overall rating` от `foot`."
   ]
  },
  {
   "cell_type": "code",
   "execution_count": null,
   "id": "428ce903-00c7-49d8-ab52-8cfc02d68352",
   "metadata": {
    "id": "428ce903-00c7-49d8-ab52-8cfc02d68352",
    "outputId": "f8bc3858-63ac-4d8a-be57-2f5e2cf354a9"
   },
   "outputs": [],
   "source": [
    "fig = px.violin(\n",
    "    players,\n",
    "    x='foot',\n",
    "    y='Overall rating',\n",
    "    hover_data=['Name', 'game'],\n",
    "    color_discrete_sequence=['purple'],\n",
    "    title=\"Difference in players' overall rating depending on the leading foot\"\n",
    ")\n",
    "fig.show()"
   ]
  },
  {
   "cell_type": "markdown",
   "id": "4ddc9ea7",
   "metadata": {},
   "source": [
    "Особенной разницы между правшами и левшами замечено не было. "
   ]
  },
  {
   "cell_type": "markdown",
   "id": "41a7c119",
   "metadata": {},
   "source": [
    "Как меняются рейтинги футболистов в зависимости от основной позиции? Рассмотри `boxplot` для `Best position` по `Overall rating`. "
   ]
  },
  {
   "cell_type": "code",
   "execution_count": null,
   "id": "2b098f1e-268a-4dd9-a7ba-04ab23c000f4",
   "metadata": {
    "id": "2b098f1e-268a-4dd9-a7ba-04ab23c000f4",
    "outputId": "a3e77a02-6c09-44d9-b2ae-21b0d0e6d1c5"
   },
   "outputs": [],
   "source": [
    "fig = px.box(\n",
    "    players,\n",
    "    x='Best position',\n",
    "    y='Overall rating',\n",
    "    hover_data=['Name', 'game'],\n",
    "    color_discrete_sequence=['purple'],\n",
    "    title=\"Distribution of players' overall rating depending on position\"\n",
    ")\n",
    "fig.show()"
   ]
  },
  {
   "cell_type": "markdown",
   "id": "d01ea37a",
   "metadata": {},
   "source": [
    "Наблюдаются небольшие различия в рейтинге игроков разных позиций. Тут позицию, на которой играет футболист, можно рассматривать как некоторый выбор между риском и выигрышем: есть позиции с высокими рейтингами на уровне квантиля $75\\%$, но с большим интерквартильным размахом; а также есть позиции с низкими рейтингами на уровне квантиля $75\\%$, но с маленьким интерквартильным размахом. "
   ]
  },
  {
   "cell_type": "markdown",
   "id": "525e2558",
   "metadata": {},
   "source": [
    "Выше мы выяснили, что основная нога футболиста слабо влияет на его рейтинг `Overall rating`. Однако, каково влияние рабочей ноги на выбор позиции? Посмотрим на тепловую карту с зависимостью между позицией и рабочей ногой. "
   ]
  },
  {
   "cell_type": "code",
   "execution_count": null,
   "id": "7b71fe59-8d4a-4489-b582-51cc4daefba8",
   "metadata": {
    "id": "7b71fe59-8d4a-4489-b582-51cc4daefba8",
    "outputId": "f1476c54-54a3-490e-c476-a79411631a46"
   },
   "outputs": [],
   "source": [
    "players_mod = players.copy()\n",
    "players_mod = players[players['Best position'].isin(['RW', 'RM', 'LW', 'LM', 'RB', 'RWB', 'LB', 'LWB'])].sort_values(by='Best position')\n",
    "fig = px.density_heatmap(\n",
    "    players_mod,\n",
    "    x='Best position',\n",
    "    y='foot',\n",
    "    color_continuous_scale='RdPu',\n",
    "    title=\"Correlation between foot and position\"\n",
    ")\n",
    "fig.show()"
   ]
  },
  {
   "cell_type": "markdown",
   "id": "a0fb96da",
   "metadata": {},
   "source": [
    "Как мы видим, позиции коррелированы с рабочей ногой. При этом для правшей данный эффект выражен сильнее. "
   ]
  },
  {
   "cell_type": "markdown",
   "id": "b76997eb",
   "metadata": {},
   "source": [
    "Посмотрим на что влияет признак `Real face`. "
   ]
  },
  {
   "cell_type": "code",
   "execution_count": null,
   "id": "1f9e45d5-e04d-4792-bab1-a08325dfcc03",
   "metadata": {},
   "outputs": [],
   "source": [
    "fig = px.violin(\n",
    "    players,\n",
    "    x='Real face',\n",
    "    y='Overall rating',\n",
    "    color_discrete_sequence=['purple'], \n",
    "    title='\"Overall rating\" for different \"Real face\" meanings',\n",
    "    hover_data='Name'\n",
    ")\n",
    "fig.show()"
   ]
  },
  {
   "cell_type": "markdown",
   "id": "af51eefc",
   "metadata": {},
   "source": [
    "Заметим, что у сильных игроков чаще бывает `Real face`. "
   ]
  },
  {
   "cell_type": "markdown",
   "id": "40f16100",
   "metadata": {},
   "source": [
    "Рассмотрим распределение *теоретических сроков контрактов. \n",
    "\n",
    "\\* теоретический срок контракта $-$ срок, на который планируется подписать игрока. Зачастую игрок меняет команду раньше, чем истекает его теоретический контракт"
   ]
  },
  {
   "cell_type": "code",
   "execution_count": null,
   "id": "03f5e66d",
   "metadata": {},
   "outputs": [],
   "source": [
    "fig = px.histogram(\n",
    "    df['End of contract'] - df['Start of contract'],\n",
    "    title='Distribution of contract length among all FIFA games',\n",
    "    color_discrete_sequence=['purple']\n",
    ")\n",
    "fig.update_layout(\n",
    "    font=dict(size=14),\n",
    "    plot_bgcolor='white',\n",
    "    xaxis_title=\"Years of contract\",\n",
    "    yaxis_title=\"Density\",\n",
    "    bargap=0.1\n",
    ")\n",
    "fig.show()"
   ]
  },
  {
   "cell_type": "markdown",
   "id": "ef83da6b",
   "metadata": {},
   "source": [
    "Распределение с тяжелым правым хвостом. Есть контракты с сроком $20+$ лет. Было выяснено, что подобные контракты существуют из-за ошибок в исходных данных сайта. "
   ]
  },
  {
   "cell_type": "markdown",
   "id": "cc6fe576",
   "metadata": {},
   "source": [
    "На всякий случай посмотрим на `scatterplot` с `Height` и `Weight`. "
   ]
  },
  {
   "cell_type": "code",
   "execution_count": null,
   "id": "6c6092b3",
   "metadata": {},
   "outputs": [],
   "source": [
    "fig = px.scatter(\n",
    "    df,\n",
    "    x='Height',\n",
    "    y='Weight',\n",
    "    color_discrete_sequence=['purple'],\n",
    "    title='Scatterplot of \"Height\" and \"Weight\"',\n",
    "    trendline='ols'\n",
    ")\n",
    "fig.update_traces(marker=dict(color='purple', size=8), textposition='top center')\n",
    "fig.update_traces(selector=dict(mode='lines'), line=dict(color='magenta'))\n",
    "fig.update_layout(font=dict(size=14), plot_bgcolor='white', width=1200, height=700)\n",
    "fig.show()"
   ]
  },
  {
   "cell_type": "markdown",
   "id": "8f87e77a",
   "metadata": {},
   "source": [
    "Корреляция присутствует; $r^2=0.58$"
   ]
  },
  {
   "cell_type": "markdown",
   "id": "58dbcfb2",
   "metadata": {},
   "source": [
    "Итак, мы построили основные визуализации для наших данных и готовы строить гипотезы. "
   ]
  },
  {
   "cell_type": "code",
   "execution_count": null,
   "id": "82fae9fa",
   "metadata": {},
   "outputs": [],
   "source": []
  },
  {
   "cell_type": "markdown",
   "id": "339a3fe6-59e1-43ee-b781-80250a418f5c",
   "metadata": {
    "id": "339a3fe6-59e1-43ee-b781-80250a418f5c"
   },
   "source": [
    "### Матстат-часть"
   ]
  },
  {
   "cell_type": "markdown",
   "id": "dd65249b",
   "metadata": {},
   "source": [
    "Первая гипотеза, которую мы проверим, будет простой. Часто можно слышать, что чем больше иностранных игроков играет в лиге, тем эта лига сильнее. Хочется посмотреть на взаимосвязь между числом иностранных игроков в некоторой национальной лиге и средним рейтингом игроков в этой лиге. Прежде всего, посмотрим на корреляцию между долей иностранных игроков (`diversity rate`) среди всех игроков лиги и средним рейтингом игроков этой лиги. "
   ]
  },
  {
   "cell_type": "code",
   "execution_count": null,
   "id": "d0883e17-8fc5-44d2-af36-de36207ddcbc",
   "metadata": {
    "id": "d0883e17-8fc5-44d2-af36-de36207ddcbc",
    "outputId": "67fecbaf-6d34-42d2-b01d-155a224fb021"
   },
   "outputs": [],
   "source": [
    "diversity_df = pd.DataFrame()\n",
    "diversity_df['Country'] = df['Team country']\n",
    "diversity_df['League'] = df['League']\n",
    "\n",
    "diversity_df['Diversity rate'] = (df['Player country'] != df['Team country'])\n",
    "diversity_df = diversity_df.groupby('League')['Diversity rate'].mean()\n",
    "diversity_df = pd.DataFrame({\"Diversity rate\": diversity_df})\n",
    "diversity_df['Diversity rate'].sort_values(ascending=False).head(10)"
   ]
  },
  {
   "cell_type": "code",
   "execution_count": null,
   "id": "5c9f147e",
   "metadata": {},
   "outputs": [],
   "source": [
    "pd.DataFrame([diversity_df['Diversity rate'], (df[['League', 'Overall rating']].groupby('League')['Overall rating'].mean())]).T.corr('pearson')"
   ]
  },
  {
   "cell_type": "code",
   "execution_count": null,
   "id": "4b5b9bea",
   "metadata": {},
   "outputs": [],
   "source": [
    "diversity_df = diversity_df.join((df[['League', 'Overall rating']].groupby('League')['Overall rating'].mean()), on=diversity_df.index, how='left')\n",
    "diversity_df = diversity_df.merge(teams[['League', 'country']], on='League', how='left')\n",
    "diversity_df = diversity_df.drop(columns='key_0')\n",
    "diversity_df"
   ]
  },
  {
   "cell_type": "code",
   "execution_count": null,
   "id": "59ec8c35-c031-45d0-be02-b76e34532edc",
   "metadata": {
    "id": "59ec8c35-c031-45d0-be02-b76e34532edc",
    "outputId": "d0da228a-46a6-4c37-82b7-3a0fff407b95"
   },
   "outputs": [],
   "source": [
    "fig = px.scatter(diversity_df, x='Diversity rate', y='Overall rating',\n",
    "                 trendline='ols', labels={'Diversity rate': 'Diversity rate', 'Overall rating': 'Overall Rating'},\n",
    "                 title='Scatter Plot of \"Diversity rate\" and \"Overall Rating\"', \n",
    "                 hover_data=['League', 'country'])\n",
    "fig.update_traces(marker=dict(color='purple', size=8), textposition='top center')\n",
    "fig.update_traces(selector=dict(mode='lines'), line=dict(color='magenta'))\n",
    "fig.update_layout(font=dict(size=14), plot_bgcolor='white', width=1200, height=700)\n",
    "fig.show();"
   ]
  },
  {
   "cell_type": "markdown",
   "id": "05cf0226",
   "metadata": {},
   "source": [
    "Можем заметить, что особенной корреляции нет. "
   ]
  },
  {
   "cell_type": "markdown",
   "id": "101252af",
   "metadata": {},
   "source": [
    "Теперь проверим более сложную и интересную гипотезу про то, как меняется рейтинг игрока при смене команды. Возможно, существует некоторый паттерн того, как обычно меняется рейтинг игрока после смены команды. Мы попытаемся построить гистограмму распределения изменения рейтинга игроков в течение нескольких лет после смены команды, а также привести это распределение к некоторому теоретическому известному и оценить параметры этого распределения. После того, как мы получим теоретическое распределение, которое будет хорошо описывать наше эмпирическое распределение. "
   ]
  },
  {
   "cell_type": "code",
   "execution_count": null,
   "id": "1c99d4d3-da85-459e-886d-bba7c449087b",
   "metadata": {},
   "outputs": [],
   "source": [
    "df_copy = df.sort_values(by=['ID', 'game'])\n",
    "df_copy = df_copy[df_copy['On loan']==\"No\"]\n",
    "df_copy = df_copy[(df_copy['Age']>=20) & (df_copy['Age']<=35)]\n",
    "\n",
    "df_copy['Prev Team'] = df_copy.groupby('ID')['Team'].shift(1)  # Предыдущая команда\n",
    "df_copy['Prev Overall'] = df_copy.groupby('ID')['Overall rating'].shift(1)  # Предыдущий рейтинг\n",
    "df_copy['Team Change'] = df_copy['Team'] != df_copy['Prev Team']  # Флаг смены команды\n",
    "df_copy['Rating Change'] = df_copy['Overall rating'] - df_copy['Prev Overall']  # Изменение рейтинга\n",
    "\n",
    "df_filtered = df_copy[df_copy['Team Change'] & df_copy['Prev Overall'].notna()]\n",
    "\n",
    "df_filtered['Year in contract'] = 2000 + df_filtered['game'] - df_filtered['Start of contract']\n",
    "\n",
    "rating_change_by_year = df_filtered.groupby('Year in contract')['Rating Change'].mean()\n",
    "rating_change_by_year = rating_change_by_year[rating_change_by_year.index<=10]\n",
    "\n",
    "fig = px.line(\n",
    "    rating_change_by_year,\n",
    "    x=rating_change_by_year.index,\n",
    "    y='Rating Change',\n",
    "    markers=True,\n",
    "    color_discrete_sequence=['purple'],\n",
    "    title='Change in \"Overall rating\" through years of contract'\n",
    ")\n",
    "fig.add_hline(0, line_color='magenta', line_dash=\"dash\", annotation_text=\"No change in rating\", annotation_position=\"bottom right\")\n",
    "fig.add_hline(df_filtered['Rating Change'].mean(), line_color='pink', line_dash='dash', annotation_text=\"Mean change in rating\", annotation_position=\"bottom right\")"
   ]
  },
  {
   "cell_type": "code",
   "execution_count": null,
   "id": "c4c46711-75eb-4522-b8f5-ec57d89a9463",
   "metadata": {},
   "outputs": [],
   "source": [
    "df_first_year = df_filtered[df_filtered['Year in contract'] == 1]\n",
    "\n",
    "\n",
    "df_filtered = df_filtered.sort_values(by='Year in contract')\n",
    "fig = px.histogram(\n",
    "    df_filtered[df_filtered['Year in contract']<=5],\n",
    "    x='Rating Change',\n",
    "    animation_frame='Year in contract',\n",
    "    barmode=\"overlay\",\n",
    "    histnorm=\"probability density\",\n",
    "    color_discrete_sequence=['purple'],\n",
    "    nbins=30,\n",
    "    title='Histogram of change in \"Overall rating\" through the years of contract'\n",
    ")\n",
    "fig.update_layout(\n",
    "    font=dict(size=14),\n",
    "    plot_bgcolor='white',\n",
    "    xaxis_title=\"Years of contract\",\n",
    "    yaxis_title=\"Density\",\n",
    "    bargap=0.1\n",
    ")\n",
    "fig.show()"
   ]
  },
  {
   "cell_type": "code",
   "execution_count": null,
   "id": "eef1753b-2326-4302-9ea8-9e55ede8d3d5",
   "metadata": {},
   "outputs": [],
   "source": []
  },
  {
   "cell_type": "markdown",
   "id": "ebea28d5-4032-498f-91ac-75fdf773f6a3",
   "metadata": {
    "id": "ebea28d5-4032-498f-91ac-75fdf773f6a3"
   },
   "source": [
    "### ML-часть"
   ]
  },
  {
   "cell_type": "markdown",
   "id": "32a4960d",
   "metadata": {},
   "source": [
    "В части с машинным обучением сперва определимся с тем, какая у нас будет целевая переменная. Предсказывать по нашим данным можно много чего: `Overall rating`, `Potential`, `Position`. Однако мы будем решать задачу классификации и прогнозировать позицию (`Position`) по входным параметрам. Сперва обработаем входные данные для модели. В качестве входных параметров модели будем использовать агрегирующие характеристики (`Total attacking`, `Total skill` и т. д. $-$ все характеристики в названии которых есть \"Total\"). Будем смотреть на долю каждой характеристики в `Total stats`. "
   ]
  },
  {
   "cell_type": "code",
   "execution_count": null,
   "id": "bba7807b-e095-4a62-a9ac-95d6f2c11034",
   "metadata": {
    "id": "bba7807b-e095-4a62-a9ac-95d6f2c11034",
    "outputId": "b992a128-bafa-4083-ce60-a05b54601d91"
   },
   "outputs": [],
   "source": [
    "df_ml = df[df['game']==24][['Name', 'Team', 'game', 'foot', 'Overall rating', 'Best position', 'Positions','Total attacking', 'Total skill', 'Total movement', 'Total power', 'Total mentality', 'Total defending', 'Total goalkeeping', 'Total stats']]\n",
    "df_ml['foot'] = df_ml['foot'].apply(lambda x: 1 if x=='Right' else 0)\n",
    "df_ml['Total attacking'] = df_ml['Total attacking'] / df_ml['Total stats']\n",
    "df_ml['Total skill'] = df_ml['Total skill'] / df_ml['Total stats']\n",
    "df_ml['Total movement'] = df_ml['Total movement'] / df_ml['Total stats']\n",
    "df_ml['Total power'] = df_ml['Total power'] / df_ml['Total stats']\n",
    "df_ml['Total mentality'] = df_ml['Total mentality'] / df_ml['Total stats']\n",
    "df_ml['Total defending'] = df_ml['Total defending'] / df_ml['Total stats']\n",
    "df_ml['Total goalkeeping'] = df_ml['Total goalkeeping'] / df_ml['Total stats']\n",
    "df_ml = df_ml.drop(columns=['Total stats'])\n",
    "df_ml"
   ]
  },
  {
   "cell_type": "markdown",
   "id": "216dd9ba",
   "metadata": {},
   "source": [
    "Теперь попробуем применить модель KNN для классификации. "
   ]
  },
  {
   "cell_type": "code",
   "execution_count": null,
   "id": "39a84dbf-9e5d-48ea-ba31-af0b4e6a3369",
   "metadata": {
    "id": "39a84dbf-9e5d-48ea-ba31-af0b4e6a3369"
   },
   "outputs": [],
   "source": [
    "X = df_ml.drop(columns=['Best position', 'Name', 'Team', 'game', 'Overall rating', 'Positions'])\n",
    "y = df_ml['Best position']\n",
    "names = df_ml['Name']\n",
    "team = df_ml['Team']\n",
    "ratings = df_ml['Overall rating']\n",
    "game = df_ml['game']\n",
    "all_positions = df_ml['Positions']\n",
    "\n",
    "X_train, X_test, y_train, y_test, names_train, names_test, teams_train, teams_test, ratings_train, ratings_test, game_train, game_test, pos_train, pos_test  = train_test_split(X, y, names, team, ratings, game, all_positions, test_size=0.1, random_state=666)\n",
    "\n",
    "scaler = StandardScaler()\n",
    "X_train = scaler.fit_transform(X_train)\n",
    "X_test = scaler.transform(X_test)\n",
    "\n",
    "knn = KNeighborsClassifier(n_neighbors=15, weights='uniform', p=2)\n",
    "knn.fit(X_train, y_train)\n",
    "\n",
    "y_pred = knn.predict(X_test)"
   ]
  },
  {
   "cell_type": "code",
   "execution_count": null,
   "id": "3a3f6f33-3b1a-4455-903e-cb78826957b7",
   "metadata": {
    "id": "3a3f6f33-3b1a-4455-903e-cb78826957b7",
    "outputId": "41f9b79b-a948-4a77-d39d-ad86a3bf5db5"
   },
   "outputs": [],
   "source": [
    "precision = precision_score(y_test, y_pred, average='weighted')\n",
    "f'Precision: {precision}'"
   ]
  },
  {
   "cell_type": "code",
   "execution_count": null,
   "id": "b3eeecdc-e472-4b5e-8916-7775673298ce",
   "metadata": {
    "id": "b3eeecdc-e472-4b5e-8916-7775673298ce",
    "outputId": "3e1a9958-09a1-4bd8-83ad-be92c776d1bc"
   },
   "outputs": [],
   "source": [
    "conf_matrix = confusion_matrix(y_test, y_pred, normalize='pred')\n",
    "conf_matrix_df = pd.DataFrame(conf_matrix, index=knn.classes_, columns=knn.classes_)\n",
    "conf_matrix_df"
   ]
  },
  {
   "cell_type": "code",
   "execution_count": null,
   "id": "aa1b8783-872e-4617-bb21-43b7c479d73b",
   "metadata": {
    "id": "aa1b8783-872e-4617-bb21-43b7c479d73b",
    "outputId": "d7709659-c4f2-428d-acd6-9fc4dd0d8053"
   },
   "outputs": [],
   "source": [
    "fig = px.imshow(conf_matrix_df, color_continuous_scale='RdPu', title='Confusion matrix')\n",
    "fig.update_layout(xaxis_title='Expected', yaxis_title='Predicted', title_x=0.5)\n",
    "fig.show()"
   ]
  },
  {
   "cell_type": "code",
   "execution_count": null,
   "id": "a4051501-cabd-4017-a96e-fe2078c39cd3",
   "metadata": {
    "id": "a4051501-cabd-4017-a96e-fe2078c39cd3"
   },
   "outputs": [],
   "source": [
    "results = pd.DataFrame({'Name': names_test, 'Team': teams_test, 'Game': game_test, 'Overall rating': ratings_test, 'Actual': y_test, 'Predicted': y_pred, 'Positions': pos_test})\n",
    "results['Correct'] = (results['Actual'] == results['Predicted'])"
   ]
  },
  {
   "cell_type": "code",
   "execution_count": null,
   "id": "2c858cd3-c974-4ae5-b44a-0428b5c2c431",
   "metadata": {
    "id": "2c858cd3-c974-4ae5-b44a-0428b5c2c431",
    "outputId": "36db9463-cef1-47ad-9e4a-b6af692d6bdf"
   },
   "outputs": [],
   "source": [
    "results['Correct'].mean()"
   ]
  },
  {
   "cell_type": "code",
   "execution_count": null,
   "id": "bbe372f1-16f8-449b-b533-ead891addc93",
   "metadata": {},
   "outputs": [],
   "source": [
    "results[\"Correct (all positions)\"] = results.apply(lambda row: row[\"Predicted\"] == row[\"Actual\"] or row[\"Predicted\"] in row[\"Positions\"], axis=1)\n",
    "results['Correct (all positions)'].mean()"
   ]
  },
  {
   "cell_type": "code",
   "execution_count": null,
   "id": "dc6b1588-b6b9-4cb7-9ed9-88890d02f13b",
   "metadata": {
    "id": "dc6b1588-b6b9-4cb7-9ed9-88890d02f13b",
    "outputId": "406f3ee6-a74f-49d3-e3a4-68eb1862cd25"
   },
   "outputs": [],
   "source": [
    "results.sort_values(by='Overall rating', ascending=False).head(30)"
   ]
  },
  {
   "cell_type": "code",
   "execution_count": null,
   "id": "8321ecc8",
   "metadata": {},
   "outputs": [],
   "source": []
  },
  {
   "cell_type": "markdown",
   "id": "92eead33-eb32-424c-85cb-c9bd40e91931",
   "metadata": {
    "id": "92eead33-eb32-424c-85cb-c9bd40e91931"
   },
   "source": [
    "### Интересные факты"
   ]
  },
  {
   "cell_type": "code",
   "execution_count": null,
   "id": "703f2ae1-8a50-4d48-ba17-bd657ce8eec3",
   "metadata": {
    "id": "703f2ae1-8a50-4d48-ba17-bd657ce8eec3",
    "outputId": "a094e51a-b96f-4b10-e1b2-c911b763cedd"
   },
   "outputs": [],
   "source": [
    "df[['Name', 'ID', 'Team', 'game', 'Start of contract', 'href', 'Age']].sort_values(by='Start of contract').drop_duplicates(subset=['Name']).iloc[4:7] #самые ранние контракты"
   ]
  },
  {
   "cell_type": "code",
   "execution_count": null,
   "id": "5a34d626-b0f7-4d46-ac23-17b65f2693ec",
   "metadata": {},
   "outputs": [],
   "source": [
    "draw_player(241, players)"
   ]
  },
  {
   "cell_type": "code",
   "execution_count": null,
   "id": "62c73926-40b3-49db-ac8a-b8a6a056dfb6",
   "metadata": {},
   "outputs": [],
   "source": []
  },
  {
   "cell_type": "code",
   "execution_count": null,
   "id": "0108729a-4e59-4bdb-b0a0-9e419a789ace",
   "metadata": {
    "id": "0108729a-4e59-4bdb-b0a0-9e419a789ace",
    "outputId": "d95acd9a-efcc-4377-bcda-b4d9b44de207"
   },
   "outputs": [],
   "source": [
    "teams.sort_values(by=['Overall', 'Attack', 'Midfield', 'Defence'], ascending=False).head(5) # сильнейшие клубы"
   ]
  },
  {
   "cell_type": "code",
   "execution_count": null,
   "id": "09ce5639-3110-4f8d-9039-23c24563f047",
   "metadata": {},
   "outputs": [],
   "source": [
    "draw_player(188545, players, 18)"
   ]
  },
  {
   "cell_type": "code",
   "execution_count": null,
   "id": "3c792a5d-9f8b-4627-af93-e54d795ef306",
   "metadata": {},
   "outputs": [],
   "source": []
  },
  {
   "cell_type": "code",
   "execution_count": null,
   "id": "74dbd5c6-2794-4d25-999e-c1fe78b8f51b",
   "metadata": {
    "id": "74dbd5c6-2794-4d25-999e-c1fe78b8f51b",
    "outputId": "63b038ff-9527-4cfe-91ad-79cfb866d4d5"
   },
   "outputs": [],
   "source": [
    "national.sort_values(by=['Overall', 'Attack', 'Midfield', 'Defence'], ascending=False).head(5) # сильнейшые национальные сборные"
   ]
  },
  {
   "cell_type": "code",
   "execution_count": null,
   "id": "4f8b1feb-2852-4a51-9549-e3fcff4bd145",
   "metadata": {
    "id": "4f8b1feb-2852-4a51-9549-e3fcff4bd145"
   },
   "outputs": [],
   "source": [
    "draw_player(41, players, 12)"
   ]
  },
  {
   "cell_type": "code",
   "execution_count": null,
   "id": "10fae585-fa5d-4e01-9741-e5db886cc617",
   "metadata": {},
   "outputs": [],
   "source": []
  },
  {
   "cell_type": "code",
   "execution_count": null,
   "id": "704d1dfe",
   "metadata": {},
   "outputs": [],
   "source": [
    "players.sort_values(by='Potential', ascending=False).head() # игроки с самым высоким потенциалом"
   ]
  },
  {
   "cell_type": "code",
   "execution_count": null,
   "id": "efbc0d1f",
   "metadata": {},
   "outputs": [],
   "source": [
    "draw_player(158023, players, 14)"
   ]
  },
  {
   "cell_type": "code",
   "execution_count": null,
   "id": "11b18b77",
   "metadata": {},
   "outputs": [],
   "source": [
    "players.sort_values(by='Wage', ascending=False).head() # самые высокооплачиваемые игроки"
   ]
  },
  {
   "cell_type": "code",
   "execution_count": null,
   "id": "e7cff7a1",
   "metadata": {},
   "outputs": [],
   "source": [
    "draw_player(158023, players, 19)"
   ]
  },
  {
   "cell_type": "code",
   "execution_count": null,
   "id": "c8986457",
   "metadata": {},
   "outputs": [],
   "source": []
  },
  {
   "cell_type": "code",
   "execution_count": null,
   "id": "081e00d5",
   "metadata": {},
   "outputs": [],
   "source": [
    "players.sort_values(by='Value', ascending=False).head() # самые дорогие игроки"
   ]
  },
  {
   "cell_type": "code",
   "execution_count": null,
   "id": "cf545121",
   "metadata": {},
   "outputs": [],
   "source": [
    "draw_player(231747, players, 22)"
   ]
  },
  {
   "cell_type": "code",
   "execution_count": null,
   "id": "add16591",
   "metadata": {},
   "outputs": [],
   "source": []
  },
  {
   "cell_type": "code",
   "execution_count": null,
   "id": "4665db0e",
   "metadata": {},
   "outputs": [],
   "source": [
    "players.sort_values(by='Total goalkeeping', ascending=False).head() # лучшие вратари"
   ]
  },
  {
   "cell_type": "code",
   "execution_count": null,
   "id": "ce2c9818",
   "metadata": {},
   "outputs": [],
   "source": [
    "draw_player(167495, players, 18)"
   ]
  },
  {
   "cell_type": "code",
   "execution_count": null,
   "id": "4832486a",
   "metadata": {},
   "outputs": [],
   "source": []
  }
 ],
 "metadata": {
  "colab": {
   "provenance": []
  },
  "kernelspec": {
   "display_name": "Python 3",
   "language": "python",
   "name": "python3"
  },
  "language_info": {
   "codemirror_mode": {
    "name": "ipython",
    "version": 3
   },
   "file_extension": ".py",
   "mimetype": "text/x-python",
   "name": "python",
   "nbconvert_exporter": "python",
   "pygments_lexer": "ipython3",
   "version": "3.13.2"
  }
 },
 "nbformat": 4,
 "nbformat_minor": 5
}
